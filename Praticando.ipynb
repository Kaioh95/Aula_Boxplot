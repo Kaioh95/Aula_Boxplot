{
  "nbformat": 4,
  "nbformat_minor": 0,
  "metadata": {
    "colab": {
      "name": "Praticando.ipynb",
      "version": "0.3.2",
      "provenance": [],
      "collapsed_sections": []
    },
    "kernelspec": {
      "name": "python3",
      "display_name": "Python 3"
    }
  },
  "cells": [
    {
      "cell_type": "markdown",
      "metadata": {
        "id": "faLeqx3bJN2g",
        "colab_type": "text"
      },
      "source": [
        "#Medidas centrais\n",
        "boxplots, violin plots, média, desvio padrão, variância, mediana, quartis, outliers"
      ]
    },
    {
      "cell_type": "code",
      "metadata": {
        "id": "xFbqN9IURf0-",
        "colab_type": "code",
        "outputId": "f0d19c5e-0e3f-410f-a7c3-fbb7729d566a",
        "colab": {
          "base_uri": "https://localhost:8080/",
          "height": 206
        }
      },
      "source": [
        "import pandas as pd\n",
        "import matplotlib.pyplot as plt\n",
        "\n",
        "reviews = pd.read_csv(\"fandango_scores.csv\")\n",
        "cols = ['FILM', 'RT_user_norm', 'Metacritic_user_nom', 'IMDB_norm', 'Fandango_Ratingvalue']\n",
        "n_cols = ['RT_user_norm', 'Metacritic_user_nom', 'IMDB_norm', 'Fandango_Ratingvalue']\n",
        "norm_reviews = reviews[cols]\n",
        "norm_reviews.head()"
      ],
      "execution_count": 127,
      "outputs": [
        {
          "output_type": "execute_result",
          "data": {
            "text/html": [
              "<div>\n",
              "<style scoped>\n",
              "    .dataframe tbody tr th:only-of-type {\n",
              "        vertical-align: middle;\n",
              "    }\n",
              "\n",
              "    .dataframe tbody tr th {\n",
              "        vertical-align: top;\n",
              "    }\n",
              "\n",
              "    .dataframe thead th {\n",
              "        text-align: right;\n",
              "    }\n",
              "</style>\n",
              "<table border=\"1\" class=\"dataframe\">\n",
              "  <thead>\n",
              "    <tr style=\"text-align: right;\">\n",
              "      <th></th>\n",
              "      <th>FILM</th>\n",
              "      <th>RT_user_norm</th>\n",
              "      <th>Metacritic_user_nom</th>\n",
              "      <th>IMDB_norm</th>\n",
              "      <th>Fandango_Ratingvalue</th>\n",
              "    </tr>\n",
              "  </thead>\n",
              "  <tbody>\n",
              "    <tr>\n",
              "      <th>0</th>\n",
              "      <td>Avengers: Age of Ultron (2015)</td>\n",
              "      <td>4.3</td>\n",
              "      <td>3.55</td>\n",
              "      <td>3.90</td>\n",
              "      <td>4.5</td>\n",
              "    </tr>\n",
              "    <tr>\n",
              "      <th>1</th>\n",
              "      <td>Cinderella (2015)</td>\n",
              "      <td>4.0</td>\n",
              "      <td>3.75</td>\n",
              "      <td>3.55</td>\n",
              "      <td>4.5</td>\n",
              "    </tr>\n",
              "    <tr>\n",
              "      <th>2</th>\n",
              "      <td>Ant-Man (2015)</td>\n",
              "      <td>4.5</td>\n",
              "      <td>4.05</td>\n",
              "      <td>3.90</td>\n",
              "      <td>4.5</td>\n",
              "    </tr>\n",
              "    <tr>\n",
              "      <th>3</th>\n",
              "      <td>Do You Believe? (2015)</td>\n",
              "      <td>4.2</td>\n",
              "      <td>2.35</td>\n",
              "      <td>2.70</td>\n",
              "      <td>4.5</td>\n",
              "    </tr>\n",
              "    <tr>\n",
              "      <th>4</th>\n",
              "      <td>Hot Tub Time Machine 2 (2015)</td>\n",
              "      <td>1.4</td>\n",
              "      <td>1.70</td>\n",
              "      <td>2.55</td>\n",
              "      <td>3.0</td>\n",
              "    </tr>\n",
              "  </tbody>\n",
              "</table>\n",
              "</div>"
            ],
            "text/plain": [
              "                             FILM  ...  Fandango_Ratingvalue\n",
              "0  Avengers: Age of Ultron (2015)  ...                   4.5\n",
              "1               Cinderella (2015)  ...                   4.5\n",
              "2                  Ant-Man (2015)  ...                   4.5\n",
              "3          Do You Believe? (2015)  ...                   4.5\n",
              "4   Hot Tub Time Machine 2 (2015)  ...                   3.0\n",
              "\n",
              "[5 rows x 5 columns]"
            ]
          },
          "metadata": {
            "tags": []
          },
          "execution_count": 127
        }
      ]
    },
    {
      "cell_type": "markdown",
      "metadata": {
        "id": "WFg2mlKaeyTQ",
        "colab_type": "text"
      },
      "source": [
        "**EXERCÍCIO**\n",
        "\n",
        "1.Passe como paramentro para ax.boxplot(  ) uma das colunas de norm_reviews[\"Nome da Coluna\"]"
      ]
    },
    {
      "cell_type": "code",
      "metadata": {
        "id": "x9Z0L8s7SEVN",
        "colab_type": "code",
        "colab": {}
      },
      "source": [
        "fig, ax = plt.subplots()\n",
        "#insira seu código aqui\n",
        "\n"
      ],
      "execution_count": 0,
      "outputs": []
    },
    {
      "cell_type": "markdown",
      "metadata": {
        "id": "tJ8tYLNGgIRI",
        "colab_type": "text"
      },
      "source": [
        "**EXERCÍCIO**\n",
        "2. Repita o processo acima utilizando ax.violinplot()"
      ]
    },
    {
      "cell_type": "code",
      "metadata": {
        "id": "Y2iJj3uOcuDy",
        "colab_type": "code",
        "colab": {}
      },
      "source": [
        "fig, ax = plt.subplots(figsize = (4, 8))\n",
        "#insira seu código aqui\n",
        "\n"
      ],
      "execution_count": 0,
      "outputs": []
    },
    {
      "cell_type": "markdown",
      "metadata": {
        "id": "TCVSkpOdlS52",
        "colab_type": "text"
      },
      "source": [
        "**EXERCÍCIO**\n",
        "\n",
        "3.1 Defina uma função em Python que recebe como parametro um array.\n",
        "\n",
        "3.2 calcule a soma dos elementos utilizando sum(nome_do_array) atribua o valor à variavel soma.\n",
        "\n",
        "3.3 determine o número de elementos do vetor por meio do len(nome_do_array) e atribua o valor à variável n.\n",
        "\n",
        "3.4 retorne a razão entre a soma e n."
      ]
    },
    {
      "cell_type": "code",
      "metadata": {
        "id": "KxLO-Yi6nyZP",
        "colab_type": "code",
        "colab": {}
      },
      "source": [
        "#insira seu código aqui\n",
        "\n"
      ],
      "execution_count": 0,
      "outputs": []
    },
    {
      "cell_type": "markdown",
      "metadata": {
        "id": "67q3Qr4xoq7S",
        "colab_type": "text"
      },
      "source": [
        "**EXERCÍCIO**\n",
        "\n",
        "4.1 Defina uma função que recebe como paramentro um array.\n",
        "\n",
        "4.2 calcule a media utilizando sum(array)/len(array) e atribua o valor à uma variável.\n",
        "\n",
        "4.3 Utilize um for loop para percorrer os elementos\n",
        "do array e que a cada iteração faça a diferença entre o elemento e a media, e depois eleve à potência de dois.\n",
        "\n",
        "4.4 Aculmule os resultados da iteração em uma variável.\n",
        "\n",
        "4.5 Fora do for loop, retorne a razão entre variável acima e o número de elementos do array."
      ]
    },
    {
      "cell_type": "code",
      "metadata": {
        "id": "sOJNbT7Qry7i",
        "colab_type": "code",
        "colab": {}
      },
      "source": [
        "#insira seu código aqui\n",
        "\n"
      ],
      "execution_count": 0,
      "outputs": []
    },
    {
      "cell_type": "markdown",
      "metadata": {
        "id": "Ff2O83ar2eri",
        "colab_type": "text"
      },
      "source": [
        "**EXERCÍCIO**\n",
        "\n",
        "5.1 Repita os passos 1, 2, 3 e 4 do exercício anterior mudando apenas o nome da função.\n",
        "\n",
        "5.2 Calcule a razão entre aux e len(array) e atribua o resultado a uma variável.\n",
        "\n",
        "5.3 Fora do loop, retorne a raiz quadrada da variável criada ateriormente."
      ]
    },
    {
      "cell_type": "code",
      "metadata": {
        "id": "__gF2VO9z_GP",
        "colab_type": "code",
        "colab": {}
      },
      "source": [
        "#insira seu código aqui\n",
        "\n"
      ],
      "execution_count": 0,
      "outputs": []
    },
    {
      "cell_type": "markdown",
      "metadata": {
        "id": "JGAcbPTz8kgu",
        "colab_type": "text"
      },
      "source": [
        "#Calculando Outliers"
      ]
    },
    {
      "cell_type": "code",
      "metadata": {
        "id": "0rreFvoE5EEF",
        "colab_type": "code",
        "colab": {
          "base_uri": "https://localhost:8080/",
          "height": 182
        },
        "outputId": "218b50ef-aefc-493e-96e3-c23c31439a74"
      },
      "source": [
        "norm_reviews[\"RT_user_norm\"].describe()"
      ],
      "execution_count": 135,
      "outputs": [
        {
          "output_type": "execute_result",
          "data": {
            "text/plain": [
              "count    146.000000\n",
              "mean       3.193836\n",
              "std        1.001222\n",
              "min        1.000000\n",
              "25%        2.500000\n",
              "50%        3.325000\n",
              "75%        4.050000\n",
              "max        4.700000\n",
              "Name: RT_user_norm, dtype: float64"
            ]
          },
          "metadata": {
            "tags": []
          },
          "execution_count": 135
        }
      ]
    },
    {
      "cell_type": "code",
      "metadata": {
        "id": "bdeL12Tb8uvJ",
        "colab_type": "code",
        "colab": {
          "base_uri": "https://localhost:8080/",
          "height": 35
        },
        "outputId": "d78c021d-849f-44bd-ecd8-2cd0baeb0637"
      },
      "source": [
        "q3 = norm_reviews[\"IMDB_norm\"].describe().iloc[6]\n",
        "q1 = norm_reviews[\"IMDB_norm\"].describe().iloc[4]\n",
        "\n",
        "iqr = q3 - q1\n",
        "\n",
        "sup_out = norm_reviews[\"IMDB_norm\"].mean() - 1.5*iqr\n",
        "sup_out"
      ],
      "execution_count": 136,
      "outputs": [
        {
          "output_type": "execute_result",
          "data": {
            "text/plain": [
              "2.543493150684931"
            ]
          },
          "metadata": {
            "tags": []
          },
          "execution_count": 136
        }
      ]
    }
  ]
}